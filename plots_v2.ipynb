{
 "cells": [
  {
   "cell_type": "code",
   "execution_count": null,
   "metadata": {},
   "outputs": [],
   "source": [
    "import pandas as pd\n",
    "import json \n",
    "import numpy as np\n",
    "import os\n",
    "import matplotlib.pyplot as plt"
   ]
  },
  {
   "cell_type": "code",
   "execution_count": null,
   "metadata": {},
   "outputs": [],
   "source": [
    "# the correspodance between categories and amenities\n",
    "with open('categories-amenities.json') as f:\n",
    "    categories = json.load(f)\n",
    "\n",
    "categories"
   ]
  },
  {
   "cell_type": "code",
   "execution_count": null,
   "metadata": {},
   "outputs": [],
   "source": [
    "# original dataframe\n",
    "df = pd.read_csv('../nearest_hundred_final.csv')\n",
    "df['start'] = pd.to_datetime(df['start'])\n",
    "df['end'] = pd.to_datetime(df['end'])\n",
    "df['label'] = df['label'].apply(int)\n",
    "df['label'] = df['label'].apply(str)\n",
    "df['user'] = df['user'].apply(str)\n",
    "df['category'] = df['category'].apply(str)\n",
    "df.head()"
   ]
  },
  {
   "cell_type": "code",
   "execution_count": null,
   "metadata": {},
   "outputs": [],
   "source": [
    "# find duration\n",
    "df['duration'] = df['end'] - df['start']\n",
    "# convert duration in hours\n",
    "df['duration'] = df['duration'] / np.timedelta64(1, 's') / 60 / 60\n",
    "df.head()"
   ]
  },
  {
   "cell_type": "code",
   "execution_count": null,
   "metadata": {},
   "outputs": [],
   "source": [
    "new_df = df[[\"user\", \"start\", \"category\", \"duration\" ]]\n",
    "new_df = new_df.rename(columns={\"start\": \"date\"})\n",
    "new_df['date'] = new_df['date'].dt.date\n",
    "new_df"
   ]
  },
  {
   "cell_type": "code",
   "execution_count": null,
   "metadata": {},
   "outputs": [],
   "source": [
    "# find which day of week is \n",
    "new_df['dayofweek'] = new_df['date'].apply(lambda x: x.weekday())\n",
    "new_df"
   ]
  },
  {
   "cell_type": "code",
   "execution_count": null,
   "metadata": {},
   "outputs": [],
   "source": [
    "# get weekend dataframe\n",
    "weekend_df = new_df.loc[new_df['dayofweek'].isin([5, 6])]\n",
    "weekend_df"
   ]
  },
  {
   "cell_type": "code",
   "execution_count": null,
   "metadata": {},
   "outputs": [],
   "source": [
    "# get weekday dataframe\n",
    "weekday_df = new_df.loc[new_df['dayofweek'].isin([0, 1, 2, 3, 4])]\n",
    "weekday_df"
   ]
  },
  {
   "cell_type": "markdown",
   "metadata": {},
   "source": [
    "### Total time per day by user dataframe"
   ]
  },
  {
   "cell_type": "code",
   "execution_count": null,
   "metadata": {},
   "outputs": [],
   "source": [
    "df1 = new_df.groupby(['user', 'date', 'category'])['duration'].sum()\n",
    "df1"
   ]
  },
  {
   "cell_type": "markdown",
   "metadata": {},
   "source": [
    "### Average daily time per user dataframe"
   ]
  },
  {
   "cell_type": "code",
   "execution_count": null,
   "metadata": {},
   "outputs": [],
   "source": [
    "df2 = df1.groupby(['user', 'category']).mean()\n",
    "df2"
   ]
  },
  {
   "cell_type": "code",
   "execution_count": null,
   "metadata": {},
   "outputs": [],
   "source": [
    "categories = df['category'].unique().tolist()\n",
    "categories"
   ]
  },
  {
   "cell_type": "markdown",
   "metadata": {},
   "source": [
    "### Distibution of users for each category throughout the month"
   ]
  },
  {
   "cell_type": "code",
   "execution_count": null,
   "metadata": {},
   "outputs": [],
   "source": [
    "def distribution(df, title):\n",
    "    rowCnt = 3\n",
    "    colCnt = 3     \n",
    "    subCnt = 1   \n",
    "    plt.figure(figsize = (25, 20))\n",
    "    init_df = df.groupby(['user', 'date', 'category'])['duration'].sum()\n",
    "    init_df =  init_df.groupby(['user', 'category']).mean()\n",
    "    init_df = init_df.reset_index()\n",
    "    for cat in categories:\n",
    "        data = init_df.loc[init_df['category'] == cat]\n",
    "        arr = data['duration'].to_list()\n",
    "        plt.subplot(rowCnt, colCnt, subCnt)\n",
    "        plt.hist(arr, bins = range(0,50,10), histtype='bar')\n",
    "        plt.title(title + ' ' + str(cat))\n",
    "        plt.legend([cat])\n",
    "        subCnt = subCnt + 1\n",
    "    plt.savefig(title + '.png')\n",
    "    plt.show()"
   ]
  },
  {
   "cell_type": "code",
   "execution_count": null,
   "metadata": {},
   "outputs": [],
   "source": [
    "distribution(new_df, 'Monthly distribution')"
   ]
  },
  {
   "cell_type": "code",
   "execution_count": null,
   "metadata": {},
   "outputs": [],
   "source": [
    "distribution(weekend_df, 'Monthly distribution - Weekends')"
   ]
  },
  {
   "cell_type": "code",
   "execution_count": null,
   "metadata": {},
   "outputs": [],
   "source": [
    "distribution(weekday_df, 'Monthly distribution - Weekdays')"
   ]
  },
  {
   "cell_type": "markdown",
   "metadata": {},
   "source": [
    "### Barplots: average daily time per user"
   ]
  },
  {
   "cell_type": "code",
   "execution_count": null,
   "metadata": {},
   "outputs": [],
   "source": [
    "def barplots(df, folder): \n",
    "    if not os.path.exists(folder):\n",
    "        os.makedirs(folder)\n",
    "    init_df = df.groupby(['user', 'date', 'category'])['duration'].sum()\n",
    "    init_df =  init_df.groupby(['user', 'category']).mean()\n",
    "    init_df = init_df.reset_index()\n",
    "#     print(init_df)\n",
    "    users = df['user'].unique().tolist()\n",
    "    for u in users:\n",
    "        data = init_df.loc[init_df['user'] == u]\n",
    "        plt.figure(figsize=(15,10))\n",
    "        plt.title('Average daily time per category for user ' + str(u))\n",
    "        plt.xlabel('Category')\n",
    "        plt.ylabel('Hours/day')\n",
    "        plt.bar(data['category'], data['duration'])\n",
    "        plt.xticks(rotation = 90) \n",
    "        plt.savefig(folder + '/' + str(u) + '.png')\n",
    "        plt.show()"
   ]
  },
  {
   "cell_type": "code",
   "execution_count": null,
   "metadata": {},
   "outputs": [],
   "source": [
    "barplots(new_df, 'Barplots_month')"
   ]
  },
  {
   "cell_type": "code",
   "execution_count": null,
   "metadata": {},
   "outputs": [],
   "source": [
    "barplots(weekend_df, 'Barplots_weekend')"
   ]
  },
  {
   "cell_type": "code",
   "execution_count": null,
   "metadata": {},
   "outputs": [],
   "source": [
    "barplots(weekday_df, 'Barplots_weekday')"
   ]
  },
  {
   "cell_type": "markdown",
   "metadata": {},
   "source": [
    "### Boxplots: average daily time per user"
   ]
  },
  {
   "cell_type": "code",
   "execution_count": null,
   "metadata": {},
   "outputs": [],
   "source": [
    "def boxplots(df, folder): \n",
    "    if not os.path.exists(folder):\n",
    "        os.makedirs(folder)\n",
    "    init_df = df.groupby(['user', 'date', 'category'])['duration'].mean()\n",
    "#     init_df =  init_df.groupby(['user', 'category']).mean()\n",
    "    init_df = init_df.reset_index()\n",
    "    users = df['user'].unique().tolist()\n",
    "    for u in users:\n",
    "        data = init_df.loc[init_df['user'] == u]\n",
    "        data.boxplot(column = 'duration', by = 'category',figsize=(15, 10), grid = False)\n",
    "        plt.title('Boxplot for user ' + str(u))\n",
    "        plt.suptitle('')\n",
    "        plt.xlabel('Category')\n",
    "        plt.ylabel('Hours/day')\n",
    "        plt.savefig(folder + '/' + str(u) + '.png')\n",
    "        plt.show()"
   ]
  },
  {
   "cell_type": "code",
   "execution_count": null,
   "metadata": {},
   "outputs": [],
   "source": [
    "boxplots(new_df, 'Boxplots_month')"
   ]
  },
  {
   "cell_type": "code",
   "execution_count": null,
   "metadata": {},
   "outputs": [],
   "source": [
    "boxplots(weekend_df, 'Boxplots_weekend')"
   ]
  },
  {
   "cell_type": "code",
   "execution_count": null,
   "metadata": {},
   "outputs": [],
   "source": [
    "boxplots(weekday_df, 'Boxplots_weekday')"
   ]
  },
  {
   "cell_type": "markdown",
   "metadata": {},
   "source": [
    "### Average barplot for all users"
   ]
  },
  {
   "cell_type": "code",
   "execution_count": null,
   "metadata": {},
   "outputs": [],
   "source": [
    "def average_barplot(df, title): \n",
    "    init_df = df.groupby(['user', 'date', 'category'])['duration'].sum()\n",
    "    init_df = init_df.groupby(['category']).mean()\n",
    "    init_df = init_df.reset_index()\n",
    "    print(init_df)\n",
    "    plt.figure(figsize=(15,10))\n",
    "    plt.title(title)\n",
    "    plt.xlabel('Category')\n",
    "    plt.ylabel('Hours/day')\n",
    "    plt.bar(init_df['category'], init_df['duration'])\n",
    "    plt.xticks(rotation = 90) \n",
    "    plt.savefig(title + '.png')\n",
    "    plt.show()"
   ]
  },
  {
   "cell_type": "code",
   "execution_count": null,
   "metadata": {},
   "outputs": [],
   "source": [
    "average_barplot(new_df, 'Monthly - average time spent per category')"
   ]
  },
  {
   "cell_type": "code",
   "execution_count": null,
   "metadata": {},
   "outputs": [],
   "source": [
    "### weekend dataframe\n",
    "average_barplot(weekend_df, 'Monthly - Weekends - average time spent per category')"
   ]
  },
  {
   "cell_type": "code",
   "execution_count": null,
   "metadata": {},
   "outputs": [],
   "source": [
    "### weekday dataframe\n",
    "average_barplot(weekday_df, 'Monthly - Weekdays - average time spent per category')"
   ]
  },
  {
   "cell_type": "markdown",
   "metadata": {},
   "source": [
    "### Average boxplot for all users"
   ]
  },
  {
   "cell_type": "code",
   "execution_count": null,
   "metadata": {},
   "outputs": [],
   "source": [
    "def average_boxplot(df, title): \n",
    "    init_df = df.groupby(['user', 'date', 'category'])['duration'].mean()\n",
    "    init_df =  init_df.groupby(['category', 'date']).mean()\n",
    "    init_df = init_df.reset_index()\n",
    "    init_df.boxplot(column = 'duration', by = 'category',figsize=(15, 10), grid = False)\n",
    "    plt.title(title)\n",
    "    plt.suptitle('')\n",
    "    plt.xlabel('Category')\n",
    "    plt.ylabel('Hours/day')\n",
    "    plt.savefig(title + '.png')\n",
    "    plt.show()"
   ]
  },
  {
   "cell_type": "code",
   "execution_count": null,
   "metadata": {},
   "outputs": [],
   "source": [
    "average_boxplot(new_df, 'Monthly Boxplot')"
   ]
  },
  {
   "cell_type": "code",
   "execution_count": null,
   "metadata": {},
   "outputs": [],
   "source": [
    "### weekend dataframe\n",
    "average_boxplot(weekend_df, 'Monthly Boxplot - Weekends')"
   ]
  },
  {
   "cell_type": "code",
   "execution_count": null,
   "metadata": {},
   "outputs": [],
   "source": [
    "### weekday dataframe\n",
    "average_boxplot(weekday_df, 'Monthly Boxplot - Weekdays')"
   ]
  }
 ],
 "metadata": {
  "kernelspec": {
   "display_name": "Python 3",
   "language": "python",
   "name": "python3"
  },
  "language_info": {
   "codemirror_mode": {
    "name": "ipython",
    "version": 3
   },
   "file_extension": ".py",
   "mimetype": "text/x-python",
   "name": "python",
   "nbconvert_exporter": "python",
   "pygments_lexer": "ipython3",
   "version": "3.8.3"
  }
 },
 "nbformat": 4,
 "nbformat_minor": 4
}
