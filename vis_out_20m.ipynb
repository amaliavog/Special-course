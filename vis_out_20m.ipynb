{
 "cells": [
  {
   "cell_type": "code",
   "execution_count": null,
   "metadata": {},
   "outputs": [],
   "source": [
    "import infostop\n",
    "import pandas as pd\n",
    "import numpy as np\n",
    "import os\n",
    "\n",
    "import osmnx as ox\n",
    "import requests\n",
    "import matplotlib.cm as cm\n",
    "import matplotlib.colors as colors\n",
    "%matplotlib inline\n",
    "ox.config(use_cache=True, log_console=True)\n",
    "print(ox.__version__)\n",
    "\n",
    "import networkx as nx\n",
    "import geopandas as gpd\n",
    "import multiprocessing as mp\n",
    "\n",
    "from descartes import PolygonPatch\n",
    "from shapely.geometry import Polygon, MultiPolygon\n",
    "\n",
    "import folium\n",
    "from folium.plugins import Fullscreen, HeatMapWithTime, TimestampedGeoJson\n",
    "from folium.plugins import TimestampedGeoJson, HeatMap, HeatMapWithTime\n",
    "\n",
    "import geopy\n",
    "from geopy.geocoders import Nominatim\n",
    "from geopy.extra.rate_limiter import RateLimiter\n",
    "import matplotlib.pyplot as plt\n",
    "import plotly_express as px\n",
    "import tqdm\n",
    "from tqdm._tqdm_notebook import tqdm_notebook\n",
    "\n",
    "from IPython.display import display, HTML, Markdown, IFrame\n",
    "\n",
    "import plotly\n",
    "import plotly.graph_objects as go\n",
    "import plotly.express as px\n",
    "from plotly.subplots import make_subplots\n",
    "\n",
    "def print_df(df):\n",
    "    return display(HTML(df.to_html()))\n",
    "\n",
    "def percent_missing(df):\n",
    "    percent_missing = df.isnull().sum() * 100 / len(df)\n",
    "    missing_value_df = pd.DataFrame({'column_name': df.columns,\n",
    "                                 'percent_missing': percent_missing})\n",
    "    missing_value_df.sort_values('percent_missing', inplace=True)\n",
    "    missing_value_df.reset_index(drop=True, inplace=True)\n",
    "    return missing_value_df\n",
    "\n",
    "df = pd.read_csv('nearest_wo_home_by_hour.csv')\n",
    "print_df(df.head())"
   ]
  },
  {
   "cell_type": "markdown",
   "metadata": {},
   "source": [
    "### Obtain nearest dataframe without home locations with \"get_lean_df\" method."
   ]
  },
  {
   "cell_type": "code",
   "execution_count": null,
   "metadata": {},
   "outputs": [],
   "source": [
    "def get_lean_df(df, distance):\n",
    "    df = pd.DataFrame(df.loc[df.dist_mt<=distance])\n",
    "    df.reset_index(drop=True, inplace=True)\n",
    "    df.drop(columns=['end','label','user_geometry','location_geometry','dist_mt','location','detail_location'], inplace=True)\n",
    "    df.rename(columns={\"start\":\"date\", \"duration_hours\":\"duration\"}, inplace=True)\n",
    "    df['date'] = pd.to_datetime(df['date'])\n",
    "    df['date'] = df['date'].dt.date\n",
    "    df['user'] = df['user'].apply(str)\n",
    "    df['category'] = df['category'].apply(str)\n",
    "    df = pd.DataFrame(df.groupby(by=[\"user\", \"category\", \"date\"])[\"duration\"].sum().reset_index())\n",
    "    print(\"Attribute data types:\\n\",df.dtypes)\n",
    "    print()\n",
    "    print(\"Shape of data set: \", df.shape)\n",
    "    print()\n",
    "    print_df(df.head())\n",
    "    return df\n",
    "# Declare distance\n",
    "DISTANCE = 20\n",
    "df_out = get_lean_df(df, DISTANCE)"
   ]
  },
  {
   "cell_type": "markdown",
   "metadata": {},
   "source": [
    "### Home locations dataframe"
   ]
  },
  {
   "cell_type": "code",
   "execution_count": null,
   "metadata": {},
   "outputs": [],
   "source": [
    "df_in = pd.read_csv('daily_home_hours.csv')\n",
    "df_in.rename(columns={\"start_date\":\"date\", \"duration_h\":\"duration\"}, inplace=True)\n",
    "df_in['user'] = df_in['user'].apply(str)\n",
    "df_in[\"category\"] = \"Residence\"\n",
    "del df_in[\"label\"]\n",
    "df_in = df_in.groupby(by=[\"user\", \"category\", \"date\"])[\"duration\"].sum().reset_index()\n",
    "df_in.head()"
   ]
  },
  {
   "cell_type": "code",
   "execution_count": null,
   "metadata": {},
   "outputs": [],
   "source": [
    "final_df = df_in.append(df_out, ignore_index=True)\n",
    "final_df.sort_values(by=[\"user\", \"date\", \"category\"], inplace=True)\n",
    "final_df.reset_index(inplace=True, drop=True)\n",
    "final_df.head()"
   ]
  },
  {
   "cell_type": "markdown",
   "metadata": {},
   "source": [
    "### Weekend and Weekday dataframe"
   ]
  },
  {
   "cell_type": "code",
   "execution_count": null,
   "metadata": {},
   "outputs": [],
   "source": [
    "final_df['date'] = pd.to_datetime(final_df['date'])\n",
    "final_df['dayofweek'] = final_df['date'].apply(lambda x: x.weekday())\n",
    "print_df(final_df.head())\n",
    "weekend_df = pd.DataFrame(final_df.loc[final_df['dayofweek'].isin([5, 6])])\n",
    "weekday_df = pd.DataFrame(final_df.loc[final_df['dayofweek'].isin([0, 1, 2, 3, 4])])"
   ]
  },
  {
   "cell_type": "markdown",
   "metadata": {},
   "source": [
    "### Distibution of users for each category throughout the month (Average hours/day)"
   ]
  },
  {
   "cell_type": "code",
   "execution_count": null,
   "metadata": {},
   "outputs": [],
   "source": [
    "rowCnt = 3\n",
    "colCnt = 3     \n",
    "subCnt = 1  \n",
    "    \n",
    "plt.figure(figsize = (25, 20))\n",
    "\n",
    "init_df1 = weekday_df.groupby(['user', 'date', 'category'])['duration'].mean().reset_index()\n",
    "\n",
    "init_df2 = weekend_df.groupby(['user', 'date', 'category'])['duration'].mean().reset_index()\n",
    "\n",
    "categories = sorted(list(final_df.category.unique()))\n",
    "\n",
    "for cat in categories:\n",
    "    data1 = init_df1.loc[init_df1['category'] == cat]\n",
    "    arr1 = data1['duration'].to_list()\n",
    "    \n",
    "    data2 = init_df2.loc[init_df2['category'] == cat]\n",
    "    arr2 = data2['duration'].to_list()\n",
    "    \n",
    "    plt.subplot(rowCnt, colCnt, subCnt)\n",
    "    plt.hist([arr1, arr2], bins = range(0,24,1), density=True) # range(0,50,10),\n",
    "    plt.title('Distribution for ' + cat)\n",
    "    plt.legend(['Weekdays', 'Weekends'])\n",
    "    subCnt = subCnt + 1\n",
    "plt.savefig('Distribution for Weekdays-Weekends' + '.png')\n",
    "plt.show()"
   ]
  },
  {
   "cell_type": "code",
   "execution_count": null,
   "metadata": {},
   "outputs": [],
   "source": [
    "categories = sorted(list(final_df.category.unique()))\n",
    "weekday_mean = weekday_df.groupby(['user', 'date', 'category'])['duration'].mean().reset_index()\n",
    "weekend_mean = weekend_df.groupby(['user', 'date', 'category'])['duration'].mean().reset_index()\n",
    "\n",
    "rowCnt, colCnt = int(1), int(1)\n",
    "fig_hist = make_subplots(rows=3, cols=3, subplot_titles=categories, vertical_spacing=0.06, horizontal_spacing=0.04)\n",
    "first_time = 0\n",
    "for cat in categories:\n",
    "    weekday_cat = list(weekday_mean.loc[weekday_mean['category'] == cat][\"duration\"])\n",
    "    weekend_cat = list(weekend_mean.loc[weekend_mean['category'] == cat][\"duration\"])\n",
    "    if(first_time==0):\n",
    "        fig_hist.append_trace(go.Histogram(x=weekday_cat, xbins=dict(start=1, end=24, size=1),\\\n",
    "                                       autobinx=False, histnorm='percent', marker_color=\"blue\", name=\"Weekday\",legendgroup='a'), rowCnt, colCnt)\n",
    "        fig_hist.append_trace(go.Histogram(x=weekend_cat, xbins=dict(start=1, end=24, size=1), \\\n",
    "                                       autobinx=False, histnorm='percent', marker_color=\"red\", name=\"Weekend\",legendgroup='b'), rowCnt, colCnt)\n",
    "        first_time += 1\n",
    "    else:\n",
    "        fig_hist.append_trace(go.Histogram(x=weekday_cat, xbins=dict(start=1, end=24, size=1),\\\n",
    "                                       autobinx=False, histnorm='percent', marker_color=\"blue\", name=\"Weekday\",showlegend=False), rowCnt, colCnt)\n",
    "        fig_hist.append_trace(go.Histogram(x=weekend_cat, xbins=dict(start=1, end=24, size=1), \\\n",
    "                                       autobinx=False, histnorm='percent', marker_color=\"red\", name=\"Weekend\",showlegend=False), rowCnt, colCnt)\n",
    "      \n",
    "    colCnt += 1\n",
    "    if(colCnt > 3):\n",
    "        rowCnt += 1\n",
    "        colCnt = 1\n",
    "        \n",
    "fig_hist.update_layout(height=800, width=1000, title_text=\"Distibution of Users for Each Category throughout the Month\")\n",
    "fig_hist.update_xaxes(showline=True, linewidth=1.5, linecolor='black', mirror=True, fixedrange=True, range=[0, 24])\n",
    "fig_hist.update_yaxes(showline=True, linewidth=1.5, linecolor='black', mirror=True)\n",
    "name = \"Plotly_Distribution for Weekdays-Weekends\"\n",
    "fig_hist.write_image(name+\"{}.png\".format(DISTANCE))\n",
    "fig_hist.write_html(name+\"{}.html\".format(DISTANCE), auto_open=True)\n",
    "IFrame(name+\"{}.html\".format(DISTANCE), width=1000, height=600)"
   ]
  },
  {
   "cell_type": "markdown",
   "metadata": {},
   "source": [
    "### Suggestions\n",
    "\n",
    "- Same binning for all plots for all categories, 24 bins, 48 bins\n",
    "- Normalize the y-axis for all categories. (divide by total number of users!)"
   ]
  },
  {
   "cell_type": "markdown",
   "metadata": {},
   "source": [
    "### Average Barplot & Boxplot for all users (Average hours/month)\n",
    "#### Side by side for all categories"
   ]
  },
  {
   "cell_type": "code",
   "execution_count": null,
   "metadata": {},
   "outputs": [],
   "source": [
    "final_df['isweekend'] = np.where(final_df['dayofweek'].isin([5, 6]), 'Weekend', 'Weekday')\n",
    "final_df.head()"
   ]
  },
  {
   "cell_type": "code",
   "execution_count": null,
   "metadata": {},
   "outputs": [],
   "source": [
    "box_data = pd.DataFrame(final_df.groupby(['date', 'category', 'isweekend'])['duration'].mean().reset_index())\n",
    "fig_box = px.box(box_data, x=\"category\", y=\"duration\", color=\"isweekend\",\\\n",
    "            labels={\"duration\": \"Average Hours/Day\", \"category\": \"Category\", \"isweekend\": \"\"}, \\\n",
    "            title=\"Box Plot Comparisons for Categories ({} meters radius)\".format(DISTANCE))\n",
    "#fig.update_traces(quartilemethod=\"exclusive\") # or \"inclusive\", or \"linear\" by default\n",
    "name = \"Plotly_BoxPlots\"\n",
    "fig_box.write_image(name+\"{}.png\".format(DISTANCE))\n",
    "fig_box.write_html(name+\"{}.html\".format(DISTANCE), auto_open=True)\n",
    "IFrame(name+\"{}.html\".format(DISTANCE), width=1000, height=700)"
   ]
  },
  {
   "cell_type": "code",
   "execution_count": null,
   "metadata": {},
   "outputs": [],
   "source": [
    "bar_data = pd.DataFrame(final_df.groupby(['category', 'isweekend'])['duration'].mean().reset_index())\n",
    "fig_bar = px.bar(bar_data, x=\"category\", y=\"duration\", color=\"isweekend\", barmode='group',\\\n",
    "            labels={\"duration\": \"Average Hours/Day\", \"isweekend\": \"\", \"category\": \"Category\"}, \\\n",
    "            title=\"Bar Plot Comparisons of Categories ({} meters radius)\".format(DISTANCE))\n",
    "#fig.update_traces(quartilemethod=\"exclusive\") # or \"inclusive\", or \"linear\" by default\n",
    "name = \"Plotly_BarPlots\"\n",
    "fig_bar.write_image(name+\"{}.png\".format(DISTANCE))\n",
    "fig_bar.write_html(name+\".html\".format(DISTANCE), auto_open=True)\n",
    "IFrame(name+\".html\".format(DISTANCE), width=1000, height=700)"
   ]
  },
  {
   "cell_type": "markdown",
   "metadata": {},
   "source": [
    "### Monthly plot for each category (average hours/day)"
   ]
  },
  {
   "cell_type": "code",
   "execution_count": null,
   "metadata": {},
   "outputs": [],
   "source": [
    "final_df.head()"
   ]
  },
  {
   "cell_type": "code",
   "execution_count": null,
   "metadata": {},
   "outputs": [],
   "source": [
    "line_plot_df = pd.DataFrame(final_df.groupby(by=[\"date\", \"category\", \"isweekend\"])[\"duration\"].mean().reset_index())\n",
    "line_plot_df.head()"
   ]
  },
  {
   "cell_type": "code",
   "execution_count": null,
   "metadata": {},
   "outputs": [],
   "source": [
    "line_plot_df[\"is_weekend\"] = line_plot_df[\"isweekend\"].apply(lambda row: 0 if row == \"Weekday\" else 1)\n",
    "line_plot_df.head()"
   ]
  },
  {
   "cell_type": "code",
   "execution_count": null,
   "metadata": {},
   "outputs": [],
   "source": [
    "list_of_weekend_dates = [np.datetime_as_string(i)[0:10] for i in list(line_plot_df.loc[line_plot_df.is_weekend == 1].date.unique())]\n",
    "list_of_weekend_dates"
   ]
  },
  {
   "cell_type": "code",
   "execution_count": null,
   "metadata": {},
   "outputs": [],
   "source": [
    "fig_line = px.line(line_plot_df, x=\"date\", y=\"duration\", color='category',\\\n",
    "            labels={\"duration\": \"Average Hours/Day\", \"date\": \"Date\", \"category\": \"Category\"}, \\\n",
    "            title=\"Line Plot Comparisons of Categories ({} meters radius)\".format(DISTANCE))\n",
    "counter = int(0)\n",
    "while(counter < len(list_of_weekend_dates)):\n",
    "    fig_line.add_vrect(x0=list_of_weekend_dates[counter], x1=list_of_weekend_dates[counter+1],fillcolor=\"LightSalmon\", \\\n",
    "                       opacity=0.4, layer=\"below\", line_width=0)\n",
    "    counter += 2\n",
    "    \n",
    "name = \"Plotly_LinePlots\"\n",
    "fig_line.write_image(name+\"{}.png\".format(DISTANCE))\n",
    "fig_line.write_html(name+\"{}.html\".format(DISTANCE), auto_open=True)\n",
    "IFrame(name+\"{}.html\".format(DISTANCE), width=1000, height=500)"
   ]
  },
  {
   "cell_type": "markdown",
   "metadata": {},
   "source": [
    "### Suggestions\n",
    "- pinpoint weekends in the plot, gray shaded area when it is weekend."
   ]
  },
  {
   "cell_type": "code",
   "execution_count": null,
   "metadata": {},
   "outputs": [],
   "source": [
    "line_plot_pv = line_plot_df.pivot_table(index = [\"date\"], values=[\"duration\"], columns=[\"category\"])\n",
    "print_df(line_plot_pv)\n",
    "line_plot_pv.columns = line_plot_pv.columns.droplevel()\n",
    "area_plot = px.area(line_plot_pv, facet_col=\"category\", facet_col_wrap=2,\\\n",
    "            labels={\"value\": \"Average Hours/Day\", \"date\": \"Date\", \"category\": \"Category\"}, \\\n",
    "            title=\"Area Plot Comparisons of Categories ({} meters radius)\".format(DISTANCE))\n",
    "area_plot.update_yaxes(title_font_size=6)\n",
    "\n",
    "counter = int(0)\n",
    "while(counter < len(list_of_weekend_dates)):\n",
    "    area_plot.add_vrect(x0=list_of_weekend_dates[counter], x1=list_of_weekend_dates[counter+1],fillcolor=\"LightSalmon\", \\\n",
    "                       opacity=0.4, layer=\"below\", line_width=0)\n",
    "    counter += 2\n",
    "#plotly.offline.iplot(area_plot)\n",
    "name = \"Plotly_AreaPlots\"\n",
    "area_plot.write_image(name+\"{}.png\".format(DISTANCE))\n",
    "area_plot.write_html(name+\"{}.html\".format(DISTANCE), auto_open=True)\n",
    "IFrame(name+\"{}.html\".format(DISTANCE), width=1000, height=500)"
   ]
  },
  {
   "cell_type": "code",
   "execution_count": null,
   "metadata": {},
   "outputs": [],
   "source": [
    "ml_df = pd.DataFrame(weekday_df.groupby(by=[\"user\", \"category\"])[\"duration\"].mean().reset_index().rename(columns={\"duration\":\"weekday_mean_duration\"}))\n",
    "ml_df = pd.merge(ml_df, pd.DataFrame(weekend_df.groupby(by=[\"user\", \"category\"])[\"duration\"].mean().reset_index().rename(columns={\"duration\":\"weekend_mean_duration\"})), on=[\"user\", \"category\"])\n",
    "\n",
    "ml_df.head()\n",
    "#weekday_mean_duration\n",
    "#weekend_mean_duration"
   ]
  },
  {
   "cell_type": "code",
   "execution_count": null,
   "metadata": {},
   "outputs": [],
   "source": [
    "ml_pv = ml_df.pivot_table(index = [\"user\"], values=[i for i in list(ml_df.columns) if i not in [\"user\", \"category\"]], columns=[\"category\"], fill_value=\"0\")\n",
    "ml_pv.columns = ml_pv.columns.map(lambda x: \"|\".join([str(i) for i in x]))\n",
    "print_df(ml_pv.head(15))"
   ]
  },
  {
   "cell_type": "code",
   "execution_count": null,
   "metadata": {},
   "outputs": [],
   "source": [
    "ml_pv.shape"
   ]
  },
  {
   "cell_type": "markdown",
   "metadata": {},
   "source": [
    "- KMeans for clustering (1-10)\n",
    "- X = number of cluster, Y = between and variation"
   ]
  },
  {
   "cell_type": "code",
   "execution_count": null,
   "metadata": {},
   "outputs": [],
   "source": [
    "from sklearn.cluster import KMeans\n",
    "import numpy as np\n",
    "import matplotlib.pyplot as plt\n",
    "import seaborn as sns\n",
    "%matplotlib inline"
   ]
  },
  {
   "cell_type": "code",
   "execution_count": null,
   "metadata": {},
   "outputs": [],
   "source": [
    "Sum_of_squared_distances = []\n",
    "K = range(1,30)\n",
    "for k in K:\n",
    "    km = KMeans(n_clusters=k)\n",
    "    km = km.fit(ml_pv)\n",
    "    Sum_of_squared_distances.append(km.inertia_)"
   ]
  },
  {
   "cell_type": "code",
   "execution_count": null,
   "metadata": {},
   "outputs": [],
   "source": [
    "plt.plot(K, Sum_of_squared_distances, 'bx-')\n",
    "plt.xlabel('k')\n",
    "plt.ylabel('Sum_of_squared_distances')\n",
    "plt.title('Elbow Method For Optimal k')\n",
    "plt.show()"
   ]
  },
  {
   "cell_type": "code",
   "execution_count": null,
   "metadata": {},
   "outputs": [],
   "source": [
    "Sum_of_squared_distances"
   ]
  },
  {
   "cell_type": "markdown",
   "metadata": {},
   "source": [
    "<font color = green>\n",
    "<font size = 5>\n",
    "\n",
    "__*USE THIS TO RE-PRODUCE IPYNB WITHOUT OUTPUT*__\n",
    "    \n",
    "<font size=3>\n",
    "<font color = blue>\n",
    "jupyter nbconvert my_input_notebook.ipynb --to notebook --ClearOutputPreprocessor.enabled=True --stdout > my_output_notebook.ipynb"
   ]
  },
  {
   "cell_type": "code",
   "execution_count": null,
   "metadata": {},
   "outputs": [],
   "source": []
  }
 ],
 "metadata": {
  "kernelspec": {
   "display_name": "Python 3",
   "language": "python",
   "name": "python3"
  },
  "language_info": {
   "codemirror_mode": {
    "name": "ipython",
    "version": 3
   },
   "file_extension": ".py",
   "mimetype": "text/x-python",
   "name": "python",
   "nbconvert_exporter": "python",
   "pygments_lexer": "ipython3",
   "version": "3.8.5"
  }
 },
 "nbformat": 4,
 "nbformat_minor": 4
}
