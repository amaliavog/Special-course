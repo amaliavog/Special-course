{
 "cells": [
  {
   "cell_type": "code",
   "execution_count": null,
   "metadata": {},
   "outputs": [],
   "source": [
    "import pandas as pd\n",
    "import json \n",
    "import numpy as np"
   ]
  },
  {
   "cell_type": "code",
   "execution_count": null,
   "metadata": {},
   "outputs": [],
   "source": [
    "# the correspodance between categories and amenities\n",
    "with open('categories-amenities.json') as f:\n",
    "    categories = json.load(f)\n",
    "\n",
    "categories"
   ]
  },
  {
   "cell_type": "code",
   "execution_count": null,
   "metadata": {},
   "outputs": [],
   "source": [
    "# original dataframe\n",
    "# df = pd.read_csv('gdf_oneday_3users.csv')\n",
    "df = pd.read_csv('nearest_gdf_oneday.csv')\n",
    "df['start'] = pd.to_datetime(df['start'])\n",
    "df['end'] = pd.to_datetime(df['end'])\n",
    "df['label'] = df['label'].apply(int)\n",
    "df['label'] = df['label'].apply(str)\n",
    "df['user'] = df['user'].apply(str)\n",
    "df.head()"
   ]
  },
  {
   "cell_type": "code",
   "execution_count": null,
   "metadata": {},
   "outputs": [],
   "source": [
    "# function\n",
    "def get_matrix(df, cat_dictionary):\n",
    "    # find duration\n",
    "    df['duration'] = df['end'] - df['start']\n",
    "    # convert duration in seconds\n",
    "    df['duration'] = df['duration'] / np.timedelta64(1, 's') \n",
    "    # create new column with empty values\n",
    "    df['category'] = \"\"\n",
    "    # find the category\n",
    "    for row, amenity in df['amenity'].iteritems(): \n",
    "        for key, values in cat_dictionary.items():\n",
    "            if amenity in values:\n",
    "                df['category'] = key\n",
    "    new_df = df[[\"user\", \"category\", \"duration\"]]\n",
    "    new_df = new_df.groupby(['user','category']).sum()\n",
    "    return(new_df)"
   ]
  },
  {
   "cell_type": "code",
   "execution_count": null,
   "metadata": {},
   "outputs": [],
   "source": [
    "get_matrix(df, categories)"
   ]
  }
 ],
 "metadata": {
  "kernelspec": {
   "display_name": "Python 3",
   "language": "python",
   "name": "python3"
  },
  "language_info": {
   "codemirror_mode": {
    "name": "ipython",
    "version": 3
   },
   "file_extension": ".py",
   "mimetype": "text/x-python",
   "name": "python",
   "nbconvert_exporter": "python",
   "pygments_lexer": "ipython3",
   "version": "3.8.3"
  }
 },
 "nbformat": 4,
 "nbformat_minor": 4
}
