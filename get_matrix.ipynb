{
 "cells": [
  {
   "cell_type": "code",
   "execution_count": null,
   "metadata": {},
   "outputs": [],
   "source": [
    "import pandas as pd\n",
    "import json \n",
    "import numpy as np"
   ]
  },
  {
   "cell_type": "code",
   "execution_count": null,
   "metadata": {},
   "outputs": [],
   "source": [
    "# the correspodance between categories and amenities\n",
    "with open('categories-amenities.json') as f:\n",
    "    categories = json.load(f)\n",
    "\n",
    "categories"
   ]
  },
  {
   "cell_type": "code",
   "execution_count": null,
   "metadata": {},
   "outputs": [],
   "source": [
    "# original dataframe\n",
    "# df = pd.read_csv('gdf_oneday_3users.csv')\n",
    "df = pd.read_csv('../nearest_hundred_final.csv')\n",
    "df['start'] = pd.to_datetime(df['start'])\n",
    "df['end'] = pd.to_datetime(df['end'])\n",
    "df['label'] = df['label'].apply(int)\n",
    "df['label'] = df['label'].apply(str)\n",
    "df['user'] = df['user'].apply(str)\n",
    "df['category'] = df['category'].apply(str)\n",
    "df.head()"
   ]
  },
  {
   "cell_type": "code",
   "execution_count": null,
   "metadata": {},
   "outputs": [],
   "source": [
    "# function\n",
    "def get_matrix(df, cat_dictionary):\n",
    "    # find duration\n",
    "    df['duration'] = df['end'] - df['start']\n",
    "    # convert duration in seconds\n",
    "    df['duration'] = df['duration'] / np.timedelta64(1, 's') / 60 / 60\n",
    "    # find the total duration per user per category per day\n",
    "    new_df = df[[\"user\", \"start\", \"category\", \"duration\" ]]\n",
    "    new_df = new_df.rename(columns={\"start\": \"date\"})\n",
    "    new_df['date'] = new_df['date'].dt.date\n",
    "    df_sum = new_df.groupby(['user','category']).sum()\n",
    "    df_sum.reset_index().to_csv('duration_per_category.csv', index = False)\n",
    "    # average duration per category for all users\n",
    "    df_avg = new_df.groupby(['category']).mean()\n",
    "    df_avg.reset_index().to_csv('avg_duration_per_category.csv', index = False)\n",
    "    return(df_sum, df_avg)"
   ]
  },
  {
   "cell_type": "code",
   "execution_count": null,
   "metadata": {},
   "outputs": [],
   "source": [
    "get_matrix(df, categories)"
   ]
  }
 ],
 "metadata": {
  "kernelspec": {
   "display_name": "Python 3",
   "language": "python",
   "name": "python3"
  },
  "language_info": {
   "codemirror_mode": {
    "name": "ipython",
    "version": 3
   },
   "file_extension": ".py",
   "mimetype": "text/x-python",
   "name": "python",
   "nbconvert_exporter": "python",
   "pygments_lexer": "ipython3",
   "version": "3.8.5"
  }
 },
 "nbformat": 4,
 "nbformat_minor": 4
}
