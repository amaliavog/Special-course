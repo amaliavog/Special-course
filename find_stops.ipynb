{
 "cells": [
  {
   "cell_type": "code",
   "execution_count": null,
   "metadata": {},
   "outputs": [],
   "source": [
    "import pandas as pd\n",
    "import numpy as np\n",
    "import infostop"
   ]
  },
  {
   "cell_type": "code",
   "execution_count": null,
   "metadata": {},
   "outputs": [],
   "source": [
    "#RUN INFOSTOP\n",
    "def run_infostop(data):\n",
    "\n",
    "    fitter = infostop.Infostop(r1 = R, \n",
    "                               r2 = R, \n",
    "                               min_spacial_resolution=0.00001,\n",
    "                               min_staying_time=10*60*1000,\n",
    "                               max_time_between = 60*6*60*1000,\n",
    "                               verbose = True)\n",
    "    return fitter.fit_predict(data)\n",
    "\n",
    "def find_labels(data, R = 20):\n",
    "    \n",
    "\n",
    "    labels = run_infostop(data)\n",
    "        \n",
    "    #POST PROCESS\n",
    "    users = range(len(data))\n",
    "    intervals = [post_process_user(n,u,labels[n]) for n,u in (enumerate(data))]\n",
    "    intervals_global = pd.concat(intervals)\n",
    "    \n",
    "    return intervals_global\n",
    "\n",
    "\n",
    "def post_process_user(n, item, labels):\n",
    "    r = pd.DataFrame(infostop.postprocess.compute_intervals(item, labels, max_time_between = 60*6*60*1000),columns = ['loc','start','end','lat','lon'])\n",
    "    r[\"user\"] = n\n",
    "    return r.dropna(subset = ['lat','lon'])"
   ]
  },
  {
   "cell_type": "code",
   "execution_count": null,
   "metadata": {},
   "outputs": [],
   "source": [
    "data = pd.read_csv('data_one_month.csv')\n",
    "data = data.drop('Unnamed: 0', axis=1)\n",
    "data"
   ]
  },
  {
   "cell_type": "code",
   "execution_count": null,
   "metadata": {},
   "outputs": [],
   "source": [
    "R = 20\n",
    "new = []\n",
    "for key, group in data.groupby('user'):\n",
    "    g = group.sort_values(by = 'timestamp').copy()\n",
    "    new.append(g[['lat','lon','timestamp']].values)"
   ]
  },
  {
   "cell_type": "code",
   "execution_count": null,
   "metadata": {},
   "outputs": [],
   "source": [
    "stops = find_labels(new)"
   ]
  },
  {
   "cell_type": "code",
   "execution_count": null,
   "metadata": {},
   "outputs": [],
   "source": [
    "stops.to_csv('stops.csv', index=False)"
   ]
  }
 ],
 "metadata": {
  "kernelspec": {
   "display_name": "Python 3",
   "language": "python",
   "name": "python3"
  },
  "language_info": {
   "codemirror_mode": {
    "name": "ipython",
    "version": 3
   },
   "file_extension": ".py",
   "mimetype": "text/x-python",
   "name": "python",
   "nbconvert_exporter": "python",
   "pygments_lexer": "ipython3",
   "version": "3.8.5"
  }
 },
 "nbformat": 4,
 "nbformat_minor": 4
}
