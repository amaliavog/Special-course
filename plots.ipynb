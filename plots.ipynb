{
 "cells": [
  {
   "cell_type": "code",
   "execution_count": null,
   "metadata": {},
   "outputs": [],
   "source": [
    "import pandas as pd\n",
    "import matplotlib.pyplot as plt\n",
    "import os"
   ]
  },
  {
   "cell_type": "code",
   "execution_count": null,
   "metadata": {},
   "outputs": [],
   "source": [
    "df1 = pd.read_csv('avg_duration_per_category.csv')\n",
    "df1"
   ]
  },
  {
   "cell_type": "code",
   "execution_count": null,
   "metadata": {},
   "outputs": [],
   "source": [
    "def average_duration_per_category(df):\n",
    "    plt.figure(figsize=(15,10))\n",
    "    plt.title('Average time spent for each category for one month')\n",
    "    plt.xlabel('Category')\n",
    "    plt.ylabel('Hours')\n",
    "    plt.bar(df['category'], df['duration'])\n",
    "    plt.xticks(rotation = 90) \n",
    "    plt.savefig('Average_time_per_category.png')\n",
    "    plt.show()"
   ]
  },
  {
   "cell_type": "code",
   "execution_count": null,
   "metadata": {},
   "outputs": [],
   "source": [
    "average_duration_per_category(df1)"
   ]
  },
  {
   "cell_type": "code",
   "execution_count": null,
   "metadata": {},
   "outputs": [],
   "source": [
    "df2 = pd.read_csv('duration_per_category.csv')\n",
    "df2"
   ]
  },
  {
   "cell_type": "code",
   "execution_count": null,
   "metadata": {},
   "outputs": [],
   "source": [
    "folder2 = 'time_spent_per_user'\n",
    "if not os.path.exists(folder2):\n",
    "    os.makedirs(folder2)"
   ]
  },
  {
   "cell_type": "code",
   "execution_count": null,
   "metadata": {},
   "outputs": [],
   "source": [
    "def duration_per_category_per_user(df, folder):\n",
    "    users = df['user'].unique().tolist()\n",
    "    for u in users:\n",
    "        new_df = df.loc[df['user'] == u]\n",
    "        plt.figure(figsize=(15,10))\n",
    "        plt.title('Time spent for user ' + str(u))\n",
    "        plt.xlabel('Category')\n",
    "        plt.ylabel('Hours')\n",
    "        plt.bar(new_df['category'], new_df['duration'])\n",
    "        plt.xticks(rotation = 90) \n",
    "        plt.savefig(folder + '/user' + str(u) + '_time.png')\n",
    "        plt.show()"
   ]
  },
  {
   "cell_type": "code",
   "execution_count": null,
   "metadata": {},
   "outputs": [],
   "source": [
    "duration_per_category_per_user(df2, folder2)"
   ]
  }
 ],
 "metadata": {
  "kernelspec": {
   "display_name": "Python 3",
   "language": "python",
   "name": "python3"
  },
  "language_info": {
   "codemirror_mode": {
    "name": "ipython",
    "version": 3
   },
   "file_extension": ".py",
   "mimetype": "text/x-python",
   "name": "python",
   "nbconvert_exporter": "python",
   "pygments_lexer": "ipython3",
   "version": "3.8.5"
  }
 },
 "nbformat": 4,
 "nbformat_minor": 4
}
