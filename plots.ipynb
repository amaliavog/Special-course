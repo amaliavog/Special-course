{
 "cells": [
  {
   "cell_type": "code",
   "execution_count": null,
   "metadata": {},
   "outputs": [],
   "source": [
    "import pandas as pd\n",
    "import matplotlib.pyplot as plt\n",
    "import os"
   ]
  },
  {
   "cell_type": "code",
   "execution_count": null,
   "metadata": {},
   "outputs": [],
   "source": [
    "df1 = pd.read_csv('avg_duration_per_category.csv')\n",
    "df1"
   ]
  },
  {
   "cell_type": "code",
   "execution_count": null,
   "metadata": {},
   "outputs": [],
   "source": [
    "folder1 = 'average_duration_per_category'\n",
    "if not os.path.exists(folder1):\n",
    "    os.makedirs(folder1)"
   ]
  },
  {
   "cell_type": "code",
   "execution_count": null,
   "metadata": {},
   "outputs": [],
   "source": [
    "def average_duration_per_category(df, folder):\n",
    "    categories = df['category'].unique().tolist()\n",
    "    for cat in categories:\n",
    "        new_df = df.loc[df['category'] == cat]    \n",
    "        plt.figure(figsize=(15,10))\n",
    "        plt.title('Average time spent in ' +  cat)\n",
    "        plt.xlabel('Date')\n",
    "        plt.ylabel('Hours')\n",
    "        plt.bar(new_df['date'], new_df['duration'])\n",
    "        plt.xticks(rotation = 90) \n",
    "        plt.savefig(folder + '/' + cat + '.png')\n",
    "#         plt.show()"
   ]
  },
  {
   "cell_type": "code",
   "execution_count": null,
   "metadata": {},
   "outputs": [],
   "source": [
    "average_duration_per_category(df1, folder1)"
   ]
  },
  {
   "cell_type": "code",
   "execution_count": null,
   "metadata": {},
   "outputs": [],
   "source": [
    "df2 = pd.read_csv('duration_per_category.csv')\n",
    "df2"
   ]
  },
  {
   "cell_type": "code",
   "execution_count": null,
   "metadata": {},
   "outputs": [],
   "source": [
    "folder2 = 'duration_per_category_per_user'\n",
    "if not os.path.exists(folder2):\n",
    "    os.makedirs(folder2)"
   ]
  },
  {
   "cell_type": "code",
   "execution_count": null,
   "metadata": {},
   "outputs": [],
   "source": [
    "def duration_per_category_per_user(df, folder):\n",
    "    users = df['user'].unique().tolist()\n",
    "    for u in users:\n",
    "        new_df = df.loc[df['user'] == u]\n",
    "        categories = df['category'].unique().tolist()\n",
    "        for cat in categories:\n",
    "            plt.figure(figsize=(15,10))\n",
    "            plt.title('Time spent in ' + cat + ' from user ' + str(u))\n",
    "            plt.xlabel('Date')\n",
    "            plt.ylabel('Hours')\n",
    "            plt.bar(new_df['date'], new_df['duration'])\n",
    "            plt.xticks(rotation = 90) \n",
    "            plt.savefig(folder + '/user' + str(u) + '_' + cat + '.png')\n",
    "            plt.show()"
   ]
  },
  {
   "cell_type": "code",
   "execution_count": null,
   "metadata": {},
   "outputs": [],
   "source": [
    "duration_per_category_per_user(df2, folder2)"
   ]
  }
 ],
 "metadata": {
  "kernelspec": {
   "display_name": "Python 3",
   "language": "python",
   "name": "python3"
  },
  "language_info": {
   "codemirror_mode": {
    "name": "ipython",
    "version": 3
   },
   "file_extension": ".py",
   "mimetype": "text/x-python",
   "name": "python",
   "nbconvert_exporter": "python",
   "pygments_lexer": "ipython3",
   "version": "3.8.5"
  }
 },
 "nbformat": 4,
 "nbformat_minor": 4
}
